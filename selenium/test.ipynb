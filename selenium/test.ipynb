{
 "cells": [
  {
   "cell_type": "code",
   "execution_count": 19,
   "metadata": {},
   "outputs": [
    {
     "data": {
      "text/plain": [
       "'21/12/22 12:43:49.124628'"
      ]
     },
     "execution_count": 19,
     "metadata": {},
     "output_type": "execute_result"
    }
   ],
   "source": [
    "import time\n",
    "from datetime import datetime\n",
    "now = datetime.now()\n",
    "now.strftime(\"%d/%m/%y %H:%M:%S.%f\")"
   ]
  },
  {
   "cell_type": "code",
   "execution_count": 38,
   "metadata": {},
   "outputs": [
    {
     "name": "stdout",
     "output_type": "stream",
     "text": [
      "Trying to click All\n",
      "clicked All\n",
      "\n",
      "clicked  (order)\n",
      "Trying to click Toast\n",
      "clicked Toast\n",
      "\n",
      "clicked  (order)\n",
      "Trying to click Schnitzel\n",
      "clicked Schnitzel\n",
      "\n",
      "clicked  (order)\n",
      "Trying to click Drinks\n",
      "clicked Drinks\n",
      "\n",
      "clicked  (order)\n",
      "Waiting 10 seconds\n"
     ]
    }
   ],
   "source": [
    "import os\n",
    "import sys\n",
    "import json\n",
    "import time\n",
    "import pytz\n",
    "from selenium import webdriver\n",
    "from selenium.webdriver.common.keys import Keys\n",
    "from selenium.webdriver.common.by import By\n",
    "from selenium.webdriver.chrome.options import Options\n",
    "from selenium.webdriver.support.wait import WebDriverWait\n",
    "from selenium.webdriver.support import expected_conditions as EC\n",
    "from datetime import datetime\n",
    "\n",
    "chrome_options = Options()\n",
    "\n",
    "chrome_options.add_argument(\"--test-type\")\n",
    "chrome_options.add_argument(\"--disable-notifications\")\n",
    "chrome_options.add_argument('--hide-scrollbars')\n",
    "chrome_options.add_argument('--disable-gpu')\n",
    "chrome_options.add_argument('--no-sandbox')\n",
    "chrome_options.add_argument('--disable-dev-shm-usage')\n",
    "\n",
    "class Clicker():\n",
    "\n",
    "    def __init__(self, uname, passw, wait_time):\n",
    "        self.wait_time = wait_time\n",
    "        self.uname = uname\n",
    "        self.passw = passw\n",
    "    \n",
    "    def login(self):\n",
    "        self.browser.get(\"http://toast-app.westeurope.cloudapp.azure.com/\")\n",
    "        uname_field = self.browser.find_element(By.CSS_SELECTOR, \"input[name='ursername']\")  # find the text input where email is entered\n",
    "        uname_field.send_keys(self.uname)  # .send_keys() is used to type text in compatible inputs or textareasin this case its email id\n",
    "\n",
    "        passw_field = self.browser.find_element(By.CSS_SELECTOR, \"input[name='password']\")  # following the same procedure to enter password\n",
    "        passw_field.send_keys(self.passw)\n",
    "\n",
    "        btn = self.browser.find_element(By.CSS_SELECTOR, \"input[class='login']\")  # find the login button and click it\n",
    "        btn.click()\n",
    "\n",
    "    def click_stuff(self):\n",
    "        self.browser.get(\"file:///G:/My%20Drive/Personal/Eyal/Military/%D7%A6%D7%95%D7%95%D7%AA%20Data/Toaster/ToastApp/AppServer/FlaskApp/index.html\")\n",
    "        menu_filter = WebDriverWait(self.browser, 10).until(EC.presence_of_element_located((By.XPATH, f\"//ul[@class='fiter-list']\")))\n",
    "        menu_btns = menu_filter.find_elements(By.TAG_NAME, \"button\")\n",
    "        # menu_btns.append(WebDriverWait(self.browser, 10).until(EC.presence_of_all_elements_located((By.XPATH, f\"//button[@class='filter-btn active']\"))))\n",
    "        \n",
    "        for idx,btn in enumerate(menu_btns):\n",
    "            if idx == 0:\n",
    "                self.browser.execute_script(\"arguments[0].scrollIntoView();\", btn)\n",
    "            \n",
    "            print(f'Trying to click {btn.text}')\n",
    "            self.browser.execute_script(\"arguments[0].click();\", btn)\n",
    "            print(f'clicked {btn.text}')\n",
    "\n",
    "            order_btn = WebDriverWait(self.browser, 10).until(EC.presence_of_element_located((By.XPATH, f\"//button[@class='btn food-menu-btn']\")))\n",
    "            # order_btn.click()\n",
    "            self.browser.execute_script(\"arguments[0].scrollIntoView();\", order_btn)\n",
    "            self.browser.execute_script(\"arguments[0].click();\", btn)\n",
    "            print(f'clicked order\\n')\n",
    "\n",
    "            # sys.exit()\n",
    "            time.sleep(3)\n",
    "\n",
    "    def run(self):\n",
    "        self.browser = webdriver.Chrome(options=chrome_options)\n",
    "        self.click_stuff()\n",
    "        self.browser.close()    \n",
    "        print(f'Waiting {self.wait_time} seconds')\n",
    "        self.wait_time\n",
    "\n",
    "clicker = Clicker(uname='toasty', passw='Password', wait_time=10)\n",
    "clicker.run()"
   ]
  },
  {
   "cell_type": "code",
   "execution_count": 10,
   "metadata": {},
   "outputs": [],
   "source": [
    "from selenium import webdriver\n",
    "from selenium.webdriver.chrome.options import Options\n",
    "\n",
    "options = Options()\n",
    "options.add_argument(\"start-maximized\")\n",
    "driver = webdriver.Chrome(options=options)\n",
    "driver.get(\"https://www.google.com/\")"
   ]
  }
 ],
 "metadata": {
  "kernelspec": {
   "display_name": "Python 3",
   "language": "python",
   "name": "python3"
  },
  "language_info": {
   "codemirror_mode": {
    "name": "ipython",
    "version": 3
   },
   "file_extension": ".py",
   "mimetype": "text/x-python",
   "name": "python",
   "nbconvert_exporter": "python",
   "pygments_lexer": "ipython3",
   "version": "3.9.2"
  },
  "orig_nbformat": 4,
  "vscode": {
   "interpreter": {
    "hash": "912b61ff3df763a5596b10d267cc5ee01c384e94fbeba6787da2375842b5ed5b"
   }
  }
 },
 "nbformat": 4,
 "nbformat_minor": 2
}
