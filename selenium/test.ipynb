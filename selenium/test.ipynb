{
 "cells": [
  {
   "cell_type": "code",
   "execution_count": 19,
   "metadata": {},
   "outputs": [
    {
     "data": {
      "text/plain": [
       "'21/12/22 12:43:49.124628'"
      ]
     },
     "execution_count": 19,
     "metadata": {},
     "output_type": "execute_result"
    }
   ],
   "source": [
    "import time\n",
    "from datetime import datetime\n",
    "now = datetime.now()\n",
    "now.strftime(\"%d/%m/%y %H:%M:%S.%f\")"
   ]
  },
  {
   "cell_type": "code",
   "execution_count": 2,
   "metadata": {},
   "outputs": [
    {
     "ename": "NoSuchElementException",
     "evalue": "Message: no such element: Unable to locate element: {\"method\":\"css selector\",\"selector\":\"input[name='ursername']\"}\n  (Session info: chrome=107.0.5304.107); For documentation on this error, please visit: https://www.selenium.dev/documentation/webdriver/troubleshooting/errors#no-such-element-exception\nStacktrace:\nBacktrace:\n\tOrdinal0 [0x0059ACD3+2075859]\n\tOrdinal0 [0x0052EE61+1633889]\n\tOrdinal0 [0x0042B7BD+571325]\n\tOrdinal0 [0x0045AC2F+764975]\n\tOrdinal0 [0x0045AE1B+765467]\n\tOrdinal0 [0x0048D0F2+970994]\n\tOrdinal0 [0x00477364+881508]\n\tOrdinal0 [0x0048B56A+963946]\n\tOrdinal0 [0x00477136+880950]\n\tOrdinal0 [0x0044FEFD+720637]\n\tOrdinal0 [0x00450F3F+724799]\n\tGetHandleVerifier [0x0084EED2+2769538]\n\tGetHandleVerifier [0x00840D95+2711877]\n\tGetHandleVerifier [0x0062A03A+521194]\n\tGetHandleVerifier [0x00628DA0+516432]\n\tOrdinal0 [0x0053682C+1665068]\n\tOrdinal0 [0x0053B128+1683752]\n\tOrdinal0 [0x0053B215+1683989]\n\tOrdinal0 [0x00546484+1729668]\n\tBaseThreadInitThunk [0x76907D59+25]\n\tRtlInitializeExceptionChain [0x772EB79B+107]\n\tRtlClearBits [0x772EB71F+191]\n",
     "output_type": "error",
     "traceback": [
      "\u001b[1;31m---------------------------------------------------------------------------\u001b[0m",
      "\u001b[1;31mNoSuchElementException\u001b[0m                    Traceback (most recent call last)",
      "Cell \u001b[1;32mIn[2], line 73\u001b[0m\n\u001b[0;32m     70\u001b[0m         \u001b[39mself\u001b[39m\u001b[39m.\u001b[39mwait_time\n\u001b[0;32m     72\u001b[0m clicker \u001b[39m=\u001b[39m Clicker(uname\u001b[39m=\u001b[39m\u001b[39m'\u001b[39m\u001b[39mtoasty\u001b[39m\u001b[39m'\u001b[39m, passw\u001b[39m=\u001b[39m\u001b[39m'\u001b[39m\u001b[39mPassword\u001b[39m\u001b[39m'\u001b[39m, wait_time\u001b[39m=\u001b[39m\u001b[39m10\u001b[39m)\n\u001b[1;32m---> 73\u001b[0m clicker\u001b[39m.\u001b[39;49mrun()\n",
      "Cell \u001b[1;32mIn[2], line 66\u001b[0m, in \u001b[0;36mClicker.run\u001b[1;34m(self)\u001b[0m\n\u001b[0;32m     64\u001b[0m \u001b[39mdef\u001b[39;00m \u001b[39mrun\u001b[39m(\u001b[39mself\u001b[39m):\n\u001b[0;32m     65\u001b[0m     \u001b[39mself\u001b[39m\u001b[39m.\u001b[39mbrowser \u001b[39m=\u001b[39m webdriver\u001b[39m.\u001b[39mChrome(options\u001b[39m=\u001b[39mchrome_options)\n\u001b[1;32m---> 66\u001b[0m     \u001b[39mself\u001b[39;49m\u001b[39m.\u001b[39;49mlogin()\n\u001b[0;32m     67\u001b[0m     \u001b[39mself\u001b[39m\u001b[39m.\u001b[39mclick_stuff()\n\u001b[0;32m     68\u001b[0m     \u001b[39mself\u001b[39m\u001b[39m.\u001b[39mbrowser\u001b[39m.\u001b[39mclose()    \n",
      "Cell \u001b[1;32mIn[2], line 32\u001b[0m, in \u001b[0;36mClicker.login\u001b[1;34m(self)\u001b[0m\n\u001b[0;32m     30\u001b[0m \u001b[39mdef\u001b[39;00m \u001b[39mlogin\u001b[39m(\u001b[39mself\u001b[39m):\n\u001b[0;32m     31\u001b[0m     \u001b[39mself\u001b[39m\u001b[39m.\u001b[39mbrowser\u001b[39m.\u001b[39mget(\u001b[39m\"\u001b[39m\u001b[39mhttp://toast-app.westeurope.cloudapp.azure.com/\u001b[39m\u001b[39m\"\u001b[39m)\n\u001b[1;32m---> 32\u001b[0m     uname_field \u001b[39m=\u001b[39m \u001b[39mself\u001b[39;49m\u001b[39m.\u001b[39;49mbrowser\u001b[39m.\u001b[39;49mfind_element(By\u001b[39m.\u001b[39;49mCSS_SELECTOR, \u001b[39m\"\u001b[39;49m\u001b[39minput[name=\u001b[39;49m\u001b[39m'\u001b[39;49m\u001b[39mursername\u001b[39;49m\u001b[39m'\u001b[39;49m\u001b[39m]\u001b[39;49m\u001b[39m\"\u001b[39;49m)  \u001b[39m# find the text input where email is entered\u001b[39;00m\n\u001b[0;32m     33\u001b[0m     uname_field\u001b[39m.\u001b[39msend_keys(\u001b[39mself\u001b[39m\u001b[39m.\u001b[39muname)  \u001b[39m# .send_keys() is used to type text in compatible inputs or textareasin this case its email id\u001b[39;00m\n\u001b[0;32m     35\u001b[0m     passw_field \u001b[39m=\u001b[39m \u001b[39mself\u001b[39m\u001b[39m.\u001b[39mbrowser\u001b[39m.\u001b[39mfind_element(By\u001b[39m.\u001b[39mCSS_SELECTOR, \u001b[39m\"\u001b[39m\u001b[39minput[name=\u001b[39m\u001b[39m'\u001b[39m\u001b[39mpassword\u001b[39m\u001b[39m'\u001b[39m\u001b[39m]\u001b[39m\u001b[39m\"\u001b[39m)  \u001b[39m# following the same procedure to enter password\u001b[39;00m\n",
      "File \u001b[1;32mc:\\Users\\eyalh\\AppData\\Local\\Programs\\Python\\Python39\\lib\\site-packages\\selenium\\webdriver\\remote\\webdriver.py:739\u001b[0m, in \u001b[0;36mWebDriver.find_element\u001b[1;34m(self, by, value)\u001b[0m\n\u001b[0;32m    736\u001b[0m     by \u001b[39m=\u001b[39m By\u001b[39m.\u001b[39mCSS_SELECTOR\n\u001b[0;32m    737\u001b[0m     value \u001b[39m=\u001b[39m \u001b[39mf\u001b[39m\u001b[39m'\u001b[39m\u001b[39m[name=\u001b[39m\u001b[39m\"\u001b[39m\u001b[39m{\u001b[39;00mvalue\u001b[39m}\u001b[39;00m\u001b[39m\"\u001b[39m\u001b[39m]\u001b[39m\u001b[39m'\u001b[39m\n\u001b[1;32m--> 739\u001b[0m \u001b[39mreturn\u001b[39;00m \u001b[39mself\u001b[39;49m\u001b[39m.\u001b[39;49mexecute(Command\u001b[39m.\u001b[39;49mFIND_ELEMENT, {\u001b[39m\"\u001b[39;49m\u001b[39musing\u001b[39;49m\u001b[39m\"\u001b[39;49m: by, \u001b[39m\"\u001b[39;49m\u001b[39mvalue\u001b[39;49m\u001b[39m\"\u001b[39;49m: value})[\u001b[39m\"\u001b[39m\u001b[39mvalue\u001b[39m\u001b[39m\"\u001b[39m]\n",
      "File \u001b[1;32mc:\\Users\\eyalh\\AppData\\Local\\Programs\\Python\\Python39\\lib\\site-packages\\selenium\\webdriver\\remote\\webdriver.py:345\u001b[0m, in \u001b[0;36mWebDriver.execute\u001b[1;34m(self, driver_command, params)\u001b[0m\n\u001b[0;32m    343\u001b[0m response \u001b[39m=\u001b[39m \u001b[39mself\u001b[39m\u001b[39m.\u001b[39mcommand_executor\u001b[39m.\u001b[39mexecute(driver_command, params)\n\u001b[0;32m    344\u001b[0m \u001b[39mif\u001b[39;00m response:\n\u001b[1;32m--> 345\u001b[0m     \u001b[39mself\u001b[39;49m\u001b[39m.\u001b[39;49merror_handler\u001b[39m.\u001b[39;49mcheck_response(response)\n\u001b[0;32m    346\u001b[0m     response[\u001b[39m\"\u001b[39m\u001b[39mvalue\u001b[39m\u001b[39m\"\u001b[39m] \u001b[39m=\u001b[39m \u001b[39mself\u001b[39m\u001b[39m.\u001b[39m_unwrap_value(response\u001b[39m.\u001b[39mget(\u001b[39m\"\u001b[39m\u001b[39mvalue\u001b[39m\u001b[39m\"\u001b[39m, \u001b[39mNone\u001b[39;00m))\n\u001b[0;32m    347\u001b[0m     \u001b[39mreturn\u001b[39;00m response\n",
      "File \u001b[1;32mc:\\Users\\eyalh\\AppData\\Local\\Programs\\Python\\Python39\\lib\\site-packages\\selenium\\webdriver\\remote\\errorhandler.py:229\u001b[0m, in \u001b[0;36mErrorHandler.check_response\u001b[1;34m(self, response)\u001b[0m\n\u001b[0;32m    227\u001b[0m         alert_text \u001b[39m=\u001b[39m value[\u001b[39m\"\u001b[39m\u001b[39malert\u001b[39m\u001b[39m\"\u001b[39m]\u001b[39m.\u001b[39mget(\u001b[39m\"\u001b[39m\u001b[39mtext\u001b[39m\u001b[39m\"\u001b[39m)\n\u001b[0;32m    228\u001b[0m     \u001b[39mraise\u001b[39;00m exception_class(message, screen, stacktrace, alert_text)  \u001b[39m# type: ignore[call-arg]  # mypy is not smart enough here\u001b[39;00m\n\u001b[1;32m--> 229\u001b[0m \u001b[39mraise\u001b[39;00m exception_class(message, screen, stacktrace)\n",
      "\u001b[1;31mNoSuchElementException\u001b[0m: Message: no such element: Unable to locate element: {\"method\":\"css selector\",\"selector\":\"input[name='ursername']\"}\n  (Session info: chrome=107.0.5304.107); For documentation on this error, please visit: https://www.selenium.dev/documentation/webdriver/troubleshooting/errors#no-such-element-exception\nStacktrace:\nBacktrace:\n\tOrdinal0 [0x0059ACD3+2075859]\n\tOrdinal0 [0x0052EE61+1633889]\n\tOrdinal0 [0x0042B7BD+571325]\n\tOrdinal0 [0x0045AC2F+764975]\n\tOrdinal0 [0x0045AE1B+765467]\n\tOrdinal0 [0x0048D0F2+970994]\n\tOrdinal0 [0x00477364+881508]\n\tOrdinal0 [0x0048B56A+963946]\n\tOrdinal0 [0x00477136+880950]\n\tOrdinal0 [0x0044FEFD+720637]\n\tOrdinal0 [0x00450F3F+724799]\n\tGetHandleVerifier [0x0084EED2+2769538]\n\tGetHandleVerifier [0x00840D95+2711877]\n\tGetHandleVerifier [0x0062A03A+521194]\n\tGetHandleVerifier [0x00628DA0+516432]\n\tOrdinal0 [0x0053682C+1665068]\n\tOrdinal0 [0x0053B128+1683752]\n\tOrdinal0 [0x0053B215+1683989]\n\tOrdinal0 [0x00546484+1729668]\n\tBaseThreadInitThunk [0x76907D59+25]\n\tRtlInitializeExceptionChain [0x772EB79B+107]\n\tRtlClearBits [0x772EB71F+191]\n"
     ]
    }
   ],
   "source": [
    "import os\n",
    "import sys\n",
    "import json\n",
    "import time\n",
    "import pytz\n",
    "from selenium import webdriver\n",
    "from selenium.webdriver.common.keys import Keys\n",
    "from selenium.webdriver.common.by import By\n",
    "from selenium.webdriver.chrome.options import Options\n",
    "from selenium.webdriver.support.wait import WebDriverWait\n",
    "from selenium.webdriver.support import expected_conditions as EC\n",
    "from datetime import datetime\n",
    "\n",
    "chrome_options = Options()\n",
    "\n",
    "chrome_options.add_argument(\"--test-type\")\n",
    "chrome_options.add_argument(\"--disable-notifications\")\n",
    "chrome_options.add_argument('--hide-scrollbars')\n",
    "chrome_options.add_argument('--disable-gpu')\n",
    "chrome_options.add_argument('--no-sandbox')\n",
    "chrome_options.add_argument('--disable-dev-shm-usage')\n",
    "\n",
    "class Clicker():\n",
    "\n",
    "    def __init__(self, uname, passw, wait_time):\n",
    "        self.wait_time = wait_time\n",
    "        self.uname = uname\n",
    "        self.passw = passw\n",
    "    \n",
    "    def login(self):\n",
    "        self.browser.get(\"http://toast-app.westeurope.cloudapp.azure.com/\")\n",
    "        uname_field = self.browser.find_element(By.CSS_SELECTOR, \"input[name='ursername']\")  # find the text input where email is entered\n",
    "        uname_field.send_keys(self.uname)  # .send_keys() is used to type text in compatible inputs or textareasin this case its email id\n",
    "\n",
    "        passw_field = self.browser.find_element(By.CSS_SELECTOR, \"input[name='password']\")  # following the same procedure to enter password\n",
    "        passw_field.send_keys(self.passw)\n",
    "\n",
    "        btn = self.browser.find_element(By.CSS_SELECTOR, \"input[class='login']\")  # find the login button and click it\n",
    "        btn.click()\n",
    "\n",
    "    def click_stuff(self):\n",
    "        menu_filter = WebDriverWait(self.browser, 10).until(EC.presence_of_element_located((By.XPATH, f\"//ul[@class='fiter-list']\")))\n",
    "        menu_btns = menu_filter.find_elements(By.TAG_NAME, \"button\")\n",
    "        # menu_btns.append(WebDriverWait(self.browser, 10).until(EC.presence_of_all_elements_located((By.XPATH, f\"//button[@class='filter-btn active']\"))))\n",
    "        \n",
    "        for idx,btn in enumerate(menu_btns):\n",
    "            if idx == 0:\n",
    "                self.browser.execute_script(\"arguments[0].scrollIntoView();\", btn)\n",
    "            \n",
    "            print(f'Trying to click {btn.text}')\n",
    "            self.browser.execute_script(\"arguments[0].click();\", btn)\n",
    "            print(f'clicked {btn.text}')\n",
    "\n",
    "            order_btn = WebDriverWait(self.browser, 10).until(EC.presence_of_element_located((By.XPATH, f\"//button[@class='btn food-menu-btn']\")))\n",
    "            # order_btn.click()\n",
    "            self.browser.execute_script(\"arguments[0].scrollIntoView();\", order_btn)\n",
    "            self.browser.execute_script(\"arguments[0].click();\", btn)\n",
    "            print(f'clicked order\\n')\n",
    "\n",
    "            # sys.exit()\n",
    "            time.sleep(3)\n",
    "\n",
    "    def run(self):\n",
    "        self.browser = webdriver.Chrome(options=chrome_options)\n",
    "        self.login()\n",
    "        self.click_stuff()\n",
    "        self.browser.close()    \n",
    "        print(f'Waiting {self.wait_time} seconds')\n",
    "        self.wait_time\n",
    "\n",
    "clicker = Clicker(uname='toasty', passw='Password', wait_time=10)\n",
    "clicker.run()"
   ]
  }
 ],
 "metadata": {
  "kernelspec": {
   "display_name": "Python 3",
   "language": "python",
   "name": "python3"
  },
  "language_info": {
   "codemirror_mode": {
    "name": "ipython",
    "version": 3
   },
   "file_extension": ".py",
   "mimetype": "text/x-python",
   "name": "python",
   "nbconvert_exporter": "python",
   "pygments_lexer": "ipython3",
   "version": "3.9.2"
  },
  "orig_nbformat": 4,
  "vscode": {
   "interpreter": {
    "hash": "912b61ff3df763a5596b10d267cc5ee01c384e94fbeba6787da2375842b5ed5b"
   }
  }
 },
 "nbformat": 4,
 "nbformat_minor": 2
}
