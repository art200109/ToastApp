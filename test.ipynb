{
 "cells": [
  {
   "cell_type": "code",
   "execution_count": 19,
   "metadata": {},
   "outputs": [
    {
     "data": {
      "text/plain": [
       "'21/12/22 12:43:49.124628'"
      ]
     },
     "execution_count": 19,
     "metadata": {},
     "output_type": "execute_result"
    }
   ],
   "source": [
    "import time\n",
    "from datetime import datetime\n",
    "now = datetime.now()\n",
    "now.strftime(\"%d/%m/%y %H:%M:%S.%f\")"
   ]
  }
 ],
 "metadata": {
  "kernelspec": {
   "display_name": "temp_venv",
   "language": "python",
   "name": "python3"
  },
  "language_info": {
   "codemirror_mode": {
    "name": "ipython",
    "version": 3
   },
   "file_extension": ".py",
   "mimetype": "text/x-python",
   "name": "python",
   "nbconvert_exporter": "python",
   "pygments_lexer": "ipython3",
   "version": "3.10.8"
  },
  "orig_nbformat": 4,
  "vscode": {
   "interpreter": {
    "hash": "e279f4cec6bbed4aabe96b011301aea8bdb4d4dcb7bf684a447d8f06c6dd05b1"
   }
  }
 },
 "nbformat": 4,
 "nbformat_minor": 2
}
